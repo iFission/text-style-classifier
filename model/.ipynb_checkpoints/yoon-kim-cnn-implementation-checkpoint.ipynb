{
 "cells": [
  {
   "cell_type": "markdown",
   "metadata": {},
   "source": [
    "## CNN for Text Classification\n",
    "Implementation of *Convolutional Neural Networks for Sentence Classification* (Yoon Kim, 2014).\n",
    "\n",
    "In his [paper](https://arxiv.org/abs/1408.5882), Yoon Kim proposed several techniques to achieve good text classification accuracy with minimal hyper-parameter tuning.\n",
    "\n",
    "This notebook consist of 4 main sections:\n",
    "\n",
    "1. Preparing the data\n",
    "2. Implementing Yoon Kim's CNN model\n",
    "3. Training the model\n",
    "4. Evaluating the model"
   ]
  },
  {
   "cell_type": "markdown",
   "metadata": {},
   "source": [
    "**Key Model Parameters**"
   ]
  },
  {
   "cell_type": "code",
   "execution_count": 1,
   "metadata": {},
   "outputs": [],
   "source": [
    "MAX_NB_WORDS = 100000 # max no. of words for tokenizer\n",
    "MAX_SEQUENCE_LENGTH = 30 # max length of each entry (sentence), including padding\n",
    "VALIDATION_SPLIT = 0.2\n",
    "EMBEDDING_DIM = 100 # embedding dimensions for word vectors (word2vec/GloVe)\n",
    "# download GloVe file from\n",
    "# https://tlkh.design/downloads/glove.6B.100d.txt.zip\n",
    "# and place it in glove/\n",
    "GLOVE_DIR = \"glove/glove.6B.\"+str(EMBEDDING_DIM)+\"d.txt\""
   ]
  },
  {
   "cell_type": "code",
   "execution_count": 2,
   "metadata": {},
   "outputs": [
    {
     "name": "stderr",
     "output_type": "stream",
     "text": [
      "Using TensorFlow backend.\n",
      "/Library/Frameworks/Python.framework/Versions/3.6/lib/python3.6/site-packages/requests/__init__.py:80: RequestsDependencyWarning: urllib3 (1.23) or chardet (3.0.4) doesn't match a supported version!\n",
      "  RequestsDependencyWarning)\n"
     ]
    }
   ],
   "source": [
    "import numpy as np\n",
    "import pandas as pd\n",
    "import re, sys, os, csv, keras, pickle\n",
    "from keras import regularizers, initializers, optimizers, callbacks\n",
    "from keras.preprocessing.sequence import pad_sequences\n",
    "from keras.preprocessing.text import Tokenizer\n",
    "from keras.utils.np_utils import to_categorical\n",
    "from keras.layers import *\n",
    "from keras.models import Model\n",
    "from keras import backend as K\n",
    "from keras.engine.topology import Layer, InputSpec"
   ]
  },
  {
   "cell_type": "markdown",
   "metadata": {},
   "source": [
    "### 1. Prepare the data\n",
    "**Read from dataset**"
   ]
  },
  {
   "cell_type": "code",
   "execution_count": 3,
   "metadata": {},
   "outputs": [],
   "source": [
    "from nltk.corpus import stopwords\n",
    "def clean_text(text):\n",
    "    output = \"\"\n",
    "    text = str(text).replace(\"\\n\", \"\")\n",
    "    text = re.sub(r'[^\\w\\s]','',text).lower().split(\" \")\n",
    "    for word in text:\n",
    "        if word not in stopwords.words(\"english\"):\n",
    "            output = output + \" \" + word\n",
    "    return str(output.strip())[1:-3].replace(\"  \", \" \")"
   ]
  },
  {
   "cell_type": "code",
   "execution_count": 4,
   "metadata": {},
   "outputs": [],
   "source": [
    "texts, labels = [], [] # empty lists for the sentences and labels\n",
    "\n",
    "data_neg = open(\"datasets/stanford_movie_neg.txt\", \"rb\") \n",
    "for line in data_neg: \n",
    "    texts.append(clean_text(line))\n",
    "    labels.append(int(0))"
   ]
  },
  {
   "cell_type": "code",
   "execution_count": 5,
   "metadata": {},
   "outputs": [],
   "source": [
    "data_pos = open(\"datasets/stanford_movie_pos.txt\", \"rb\") \n",
    "for line in data_pos: \n",
    "    texts.append(clean_text(line))\n",
    "    labels.append(int(1))"
   ]
  },
  {
   "cell_type": "code",
   "execution_count": 6,
   "metadata": {},
   "outputs": [
    {
     "name": "stdout",
     "output_type": "stream",
     "text": [
      "Sample positive: simplistic silly tedious 0\n",
      "Sample negative: with respites marshall keeps energy humming edits unlike moulin rouge crisp purposeful without overdoing 1\n"
     ]
    }
   ],
   "source": [
    "print(\"Sample positive:\", texts[0], labels[0])\n",
    "print(\"Sample negative:\", texts[9000], labels[9000])"
   ]
  },
  {
   "cell_type": "markdown",
   "metadata": {},
   "source": [
    "**Word Tokenizer**"
   ]
  },
  {
   "cell_type": "code",
   "execution_count": 7,
   "metadata": {},
   "outputs": [
    {
     "name": "stdout",
     "output_type": "stream",
     "text": [
      "[i] Saved word tokenizer to file: tokenizer.pickle\n"
     ]
    }
   ],
   "source": [
    "#\"\"\" #uncomment this chunk to create a new Tokenizer\n",
    "tokenizer = Tokenizer(num_words=MAX_NB_WORDS)\n",
    "tokenizer.fit_on_texts(texts)\n",
    "with open('tokenizer.pickle', 'wb') as handle:\n",
    "    pickle.dump(tokenizer, handle, protocol=pickle.HIGHEST_PROTOCOL)\n",
    "print(\"[i] Saved word tokenizer to file: tokenizer.pickle\")\n",
    "#\"\"\"\n",
    "with open('tokenizer.pickle', 'rb') as handle:\n",
    "    tokenizer = pickle.load(handle) # load a previously generated Tokenizer"
   ]
  },
  {
   "cell_type": "markdown",
   "metadata": {},
   "source": [
    "**Generate the array of sequences from dataset**"
   ]
  },
  {
   "cell_type": "code",
   "execution_count": 8,
   "metadata": {},
   "outputs": [
    {
     "name": "stdout",
     "output_type": "stream",
     "text": [
      "[i] Found 20624 unique tokens.\n"
     ]
    }
   ],
   "source": [
    "sequences = tokenizer.texts_to_sequences(texts)\n",
    "word_index = tokenizer.word_index\n",
    "print('[i] Found %s unique tokens.' % len(word_index))\n",
    "data_int = pad_sequences(sequences, padding='pre', maxlen=(MAX_SEQUENCE_LENGTH-5))\n",
    "data = pad_sequences(data_int, padding='post', maxlen=(MAX_SEQUENCE_LENGTH))"
   ]
  },
  {
   "cell_type": "markdown",
   "metadata": {},
   "source": [
    "**Create the train-validation split**"
   ]
  },
  {
   "cell_type": "code",
   "execution_count": 9,
   "metadata": {},
   "outputs": [
    {
     "name": "stdout",
     "output_type": "stream",
     "text": [
      "[i] Shape of data tensor: (10662, 30)\n",
      "[i] Shape of label tensor: (10662, 2)\n",
      "[i] Number of entries in each category:\n",
      "[+] Training: [4245. 4285.]\n",
      "[+] Validation: [1086. 1046.]\n"
     ]
    }
   ],
   "source": [
    "labels = to_categorical(np.asarray(labels)) # convert the category label to one-hot encoding\n",
    "print('[i] Shape of data tensor:', data.shape)\n",
    "print('[i] Shape of label tensor:', labels.shape)\n",
    "\n",
    "indices = np.arange(data.shape[0])\n",
    "np.random.shuffle(indices)\n",
    "data = data[indices]\n",
    "labels = labels[indices]\n",
    "nb_validation_samples = int(VALIDATION_SPLIT * data.shape[0])\n",
    "x_train = data[:-nb_validation_samples]\n",
    "y_train = labels[:-nb_validation_samples]\n",
    "x_val = data[-nb_validation_samples:]\n",
    "y_val = labels[-nb_validation_samples:]\n",
    "\n",
    "print('[i] Number of entries in each category:')\n",
    "print(\"[+] Training:\",y_train.sum(axis=0))\n",
    "print(\"[+] Validation:\",y_val.sum(axis=0))"
   ]
  },
  {
   "cell_type": "markdown",
   "metadata": {},
   "source": [
    "**What does the data look like?**"
   ]
  },
  {
   "cell_type": "code",
   "execution_count": 10,
   "metadata": {},
   "outputs": [
    {
     "name": "stdout",
     "output_type": "stream",
     "text": [
      "Tokenized sequence:\n",
      " [    0     0     0     0     0     0     0     0     0     0     0     0\n",
      "     0     0  4255  4389   462  3147  3362  4475 18624  1116  3868   585\n",
      "  1577     0     0     0     0     0]\n",
      "\n",
      "One-hot label:\n",
      " [0. 1.]\n"
     ]
    }
   ],
   "source": [
    "print(\"Tokenized sequence:\\n\", data[0])\n",
    "print(\"\")\n",
    "print(\"One-hot label:\\n\", labels[0])"
   ]
  },
  {
   "cell_type": "markdown",
   "metadata": {},
   "source": [
    "### 2. Create the model\n",
    "Yoon Kim's model has several notable features:\n",
    "![model-structure](notebook_imgs/yoon_kim_structure.png)\n",
    "* two sets of word embeddings for what he terms a **\"multi-channel\" approach**.\n",
    "  * One of the word embeddings will be frozen (**\"static channel\"**), and one will be modified during the training process (**\"non-static channel\"**). \n",
    "* multiple convolutional kernel sizes\n",
    "\n",
    "We will now start to create the model in `Keras`."
   ]
  },
  {
   "cell_type": "markdown",
   "metadata": {},
   "source": [
    "**Load word embeddings into an `embeddings_index`**\n",
    "\n",
    "Create an index of words mapped to known embeddings, by parsing the data dump of pre-trained embeddings.\n",
    "\n",
    "We use a set from [pre-trained GloVe vectors from Stanford](https://nlp.stanford.edu/projects/glove/)."
   ]
  },
  {
   "cell_type": "code",
   "execution_count": 11,
   "metadata": {},
   "outputs": [
    {
     "name": "stdout",
     "output_type": "stream",
     "text": [
      "[i] (long) Loading GloVe from: glove/glove.6B.100d.txt ...Done.\n",
      "[+] Proceeding with Embedding Matrix... Completed!\n"
     ]
    }
   ],
   "source": [
    "embeddings_index = {}\n",
    "f = open(GLOVE_DIR)\n",
    "print(\"[i] (long) Loading GloVe from:\",GLOVE_DIR,\"...\",end=\"\")\n",
    "for line in f:\n",
    "    values = line.split()\n",
    "    word = values[0]\n",
    "    embeddings_index[word] = np.asarray(values[1:], dtype='float32')\n",
    "f.close()\n",
    "print(\"Done.\\n[+] Proceeding with Embedding Matrix...\", end=\"\")\n",
    "embedding_matrix = np.random.random((len(word_index) + 1, EMBEDDING_DIM))\n",
    "for word, i in word_index.items():\n",
    "    embedding_vector = embeddings_index.get(word)\n",
    "    if embedding_vector is not None:\n",
    "        # words not found in embedding index will be all-zeros.\n",
    "        embedding_matrix[i] = embedding_vector\n",
    "print(\" Completed!\")"
   ]
  },
  {
   "cell_type": "code",
   "execution_count": 12,
   "metadata": {},
   "outputs": [],
   "source": [
    "# second embedding matrix for non-static channel\n",
    "embedding_matrix_ns = np.random.random((len(word_index) + 1, EMBEDDING_DIM))\n",
    "for word, i in word_index.items():\n",
    "    embedding_vector = embeddings_index.get(word)\n",
    "    if embedding_vector is not None:\n",
    "        # words not found in embedding index will be all-zeros.\n",
    "        embedding_matrix_ns[i] = embedding_vector"
   ]
  },
  {
   "cell_type": "markdown",
   "metadata": {},
   "source": [
    "**Create the `Embedding` layers**"
   ]
  },
  {
   "cell_type": "code",
   "execution_count": 13,
   "metadata": {},
   "outputs": [],
   "source": [
    "sequence_input = Input(shape=(MAX_SEQUENCE_LENGTH,), dtype='int32') # input to the model\n",
    "\n",
    "# static channel\n",
    "embedding_layer_frozen = Embedding(len(word_index) + 1,\n",
    "                            EMBEDDING_DIM,\n",
    "                            weights=[embedding_matrix],\n",
    "                            input_length=MAX_SEQUENCE_LENGTH,\n",
    "                            trainable=False)\n",
    "embedded_sequences_frozen = embedding_layer_frozen(sequence_input)\n",
    "\n",
    "# non-static channel\n",
    "embedding_layer_train = Embedding(len(word_index) + 1,\n",
    "                            EMBEDDING_DIM,\n",
    "                            weights=[embedding_matrix_ns],\n",
    "                            input_length=MAX_SEQUENCE_LENGTH,\n",
    "                            trainable=True)\n",
    "embedded_sequences_train = embedding_layer_train(sequence_input)\n",
    "\n",
    "l_lstm_1 = Concatenate(axis=1)([embedded_sequences_frozen, embedded_sequences_train])"
   ]
  },
  {
   "cell_type": "markdown",
   "metadata": {},
   "source": [
    "**Create the CNN layer with multiple kernel (filter) sizes**"
   ]
  },
  {
   "cell_type": "code",
   "execution_count": 14,
   "metadata": {},
   "outputs": [],
   "source": [
    "l_conv_3 = Conv1D(filters=128,kernel_size=3,activation='relu',kernel_regularizer=regularizers.l2(0.001))(l_lstm_1)\n",
    "l_conv_4 = Conv1D(filters=128,kernel_size=4,activation='relu',kernel_regularizer=regularizers.l2(0.001))(l_lstm_1)\n",
    "l_conv_5 = Conv1D(filters=128,kernel_size=5,activation='relu',kernel_regularizer=regularizers.l2(0.001))(l_lstm_1)\n",
    "\n",
    "l_conv = Concatenate(axis=1)([l_conv_3, l_conv_4, l_conv_5])"
   ]
  },
  {
   "cell_type": "markdown",
   "metadata": {},
   "source": [
    "Followed by the rest of the model (boring!!)"
   ]
  },
  {
   "cell_type": "code",
   "execution_count": 15,
   "metadata": {},
   "outputs": [],
   "source": [
    "l_pool = MaxPooling1D(4)(l_conv)\n",
    "l_drop = Dropout(0.2)(l_pool)\n",
    "l_flat = Flatten()(l_pool)\n",
    "l_dense = Dense(32, activation='relu')(l_flat)\n",
    "preds = Dense(2, activation='softmax')(l_dense) #follows the number of classes"
   ]
  },
  {
   "cell_type": "markdown",
   "metadata": {},
   "source": [
    "**Compile the model into a static graph for training**"
   ]
  },
  {
   "cell_type": "code",
   "execution_count": 16,
   "metadata": {},
   "outputs": [
    {
     "name": "stdout",
     "output_type": "stream",
     "text": [
      "__________________________________________________________________________________________________\n",
      "Layer (type)                    Output Shape         Param #     Connected to                     \n",
      "==================================================================================================\n",
      "input_1 (InputLayer)            (None, 30)           0                                            \n",
      "__________________________________________________________________________________________________\n",
      "embedding_1 (Embedding)         (None, 30, 100)      2062500     input_1[0][0]                    \n",
      "__________________________________________________________________________________________________\n",
      "embedding_2 (Embedding)         (None, 30, 100)      2062500     input_1[0][0]                    \n",
      "__________________________________________________________________________________________________\n",
      "concatenate_1 (Concatenate)     (None, 60, 100)      0           embedding_1[0][0]                \n",
      "                                                                 embedding_2[0][0]                \n",
      "__________________________________________________________________________________________________\n",
      "conv1d_1 (Conv1D)               (None, 58, 128)      38528       concatenate_1[0][0]              \n",
      "__________________________________________________________________________________________________\n",
      "conv1d_2 (Conv1D)               (None, 57, 128)      51328       concatenate_1[0][0]              \n",
      "__________________________________________________________________________________________________\n",
      "conv1d_3 (Conv1D)               (None, 56, 128)      64128       concatenate_1[0][0]              \n",
      "__________________________________________________________________________________________________\n",
      "concatenate_2 (Concatenate)     (None, 171, 128)     0           conv1d_1[0][0]                   \n",
      "                                                                 conv1d_2[0][0]                   \n",
      "                                                                 conv1d_3[0][0]                   \n",
      "__________________________________________________________________________________________________\n",
      "max_pooling1d_1 (MaxPooling1D)  (None, 42, 128)      0           concatenate_2[0][0]              \n",
      "__________________________________________________________________________________________________\n",
      "flatten_1 (Flatten)             (None, 5376)         0           max_pooling1d_1[0][0]            \n",
      "__________________________________________________________________________________________________\n",
      "dense_1 (Dense)                 (None, 32)           172064      flatten_1[0][0]                  \n",
      "__________________________________________________________________________________________________\n",
      "dense_2 (Dense)                 (None, 2)            66          dense_1[0][0]                    \n",
      "==================================================================================================\n",
      "Total params: 4,451,114\n",
      "Trainable params: 2,388,614\n",
      "Non-trainable params: 2,062,500\n",
      "__________________________________________________________________________________________________\n"
     ]
    }
   ],
   "source": [
    "model = Model(sequence_input, preds)\n",
    "model.compile(loss='binary_crossentropy',\n",
    "              optimizer=\"sgd\",\n",
    "              metrics=['acc'])\n",
    "model.summary()"
   ]
  },
  {
   "cell_type": "markdown",
   "metadata": {},
   "source": [
    "**Visualisation**"
   ]
  },
  {
   "cell_type": "code",
   "execution_count": 17,
   "metadata": {},
   "outputs": [
    {
     "data": {
      "image/svg+xml": [
       "<svg height=\"629pt\" viewBox=\"0.00 0.00 422.05 629.00\" width=\"422pt\" xmlns=\"http://www.w3.org/2000/svg\" xmlns:xlink=\"http://www.w3.org/1999/xlink\">\n",
       "<g class=\"graph\" id=\"graph0\" transform=\"scale(1 1) rotate(0) translate(4 625)\">\n",
       "<title>G</title>\n",
       "<polygon fill=\"#ffffff\" points=\"-4,4 -4,-625 418.0518,-625 418.0518,4 -4,4\" stroke=\"transparent\"/>\n",
       "<!-- 4991004568 -->\n",
       "<g class=\"node\" id=\"node1\">\n",
       "<title>4991004568</title>\n",
       "<polygon fill=\"none\" points=\"142.8447,-584.5 142.8447,-620.5 271.207,-620.5 271.207,-584.5 142.8447,-584.5\" stroke=\"#000000\"/>\n",
       "<text fill=\"#000000\" font-family=\"Times,serif\" font-size=\"14.00\" text-anchor=\"middle\" x=\"207.0259\" y=\"-598.3\">input_1: InputLayer</text>\n",
       "</g>\n",
       "<!-- 4991003784 -->\n",
       "<g class=\"node\" id=\"node2\">\n",
       "<title>4991003784</title>\n",
       "<polygon fill=\"none\" points=\"33.9551,-511.5 33.9551,-547.5 198.0967,-547.5 198.0967,-511.5 33.9551,-511.5\" stroke=\"#000000\"/>\n",
       "<text fill=\"#000000\" font-family=\"Times,serif\" font-size=\"14.00\" text-anchor=\"middle\" x=\"116.0259\" y=\"-525.3\">embedding_1: Embedding</text>\n",
       "</g>\n",
       "<!-- 4991004568&#45;&gt;4991003784 -->\n",
       "<g class=\"edge\" id=\"edge1\">\n",
       "<title>4991004568-&gt;4991003784</title>\n",
       "<path d=\"M184.5315,-584.4551C173.047,-575.2422 158.9088,-563.9006 146.4648,-553.918\" fill=\"none\" stroke=\"#000000\"/>\n",
       "<polygon fill=\"#000000\" points=\"148.5673,-551.1177 138.5769,-547.5904 144.1871,-556.5779 148.5673,-551.1177\" stroke=\"#000000\"/>\n",
       "</g>\n",
       "<!-- 4374045528 -->\n",
       "<g class=\"node\" id=\"node3\">\n",
       "<title>4374045528</title>\n",
       "<polygon fill=\"none\" points=\"215.9551,-511.5 215.9551,-547.5 380.0967,-547.5 380.0967,-511.5 215.9551,-511.5\" stroke=\"#000000\"/>\n",
       "<text fill=\"#000000\" font-family=\"Times,serif\" font-size=\"14.00\" text-anchor=\"middle\" x=\"298.0259\" y=\"-525.3\">embedding_2: Embedding</text>\n",
       "</g>\n",
       "<!-- 4991004568&#45;&gt;4374045528 -->\n",
       "<g class=\"edge\" id=\"edge2\">\n",
       "<title>4991004568-&gt;4374045528</title>\n",
       "<path d=\"M229.5203,-584.4551C241.0048,-575.2422 255.1429,-563.9006 267.5869,-553.918\" fill=\"none\" stroke=\"#000000\"/>\n",
       "<polygon fill=\"#000000\" points=\"269.8646,-556.5779 275.4749,-547.5904 265.4844,-551.1177 269.8646,-556.5779\" stroke=\"#000000\"/>\n",
       "</g>\n",
       "<!-- 4598652432 -->\n",
       "<g class=\"node\" id=\"node4\">\n",
       "<title>4598652432</title>\n",
       "<polygon fill=\"none\" points=\"120.7065,-438.5 120.7065,-474.5 293.3452,-474.5 293.3452,-438.5 120.7065,-438.5\" stroke=\"#000000\"/>\n",
       "<text fill=\"#000000\" font-family=\"Times,serif\" font-size=\"14.00\" text-anchor=\"middle\" x=\"207.0259\" y=\"-452.3\">concatenate_1: Concatenate</text>\n",
       "</g>\n",
       "<!-- 4991003784&#45;&gt;4598652432 -->\n",
       "<g class=\"edge\" id=\"edge3\">\n",
       "<title>4991003784-&gt;4598652432</title>\n",
       "<path d=\"M138.5203,-511.4551C150.0048,-502.2422 164.1429,-490.9006 176.5869,-480.918\" fill=\"none\" stroke=\"#000000\"/>\n",
       "<polygon fill=\"#000000\" points=\"178.8646,-483.5779 184.4749,-474.5904 174.4844,-478.1177 178.8646,-483.5779\" stroke=\"#000000\"/>\n",
       "</g>\n",
       "<!-- 4374045528&#45;&gt;4598652432 -->\n",
       "<g class=\"edge\" id=\"edge4\">\n",
       "<title>4374045528-&gt;4598652432</title>\n",
       "<path d=\"M275.5315,-511.4551C264.047,-502.2422 249.9088,-490.9006 237.4648,-480.918\" fill=\"none\" stroke=\"#000000\"/>\n",
       "<polygon fill=\"#000000\" points=\"239.5673,-478.1177 229.5769,-474.5904 235.1871,-483.5779 239.5673,-478.1177\" stroke=\"#000000\"/>\n",
       "</g>\n",
       "<!-- 5322231480 -->\n",
       "<g class=\"node\" id=\"node5\">\n",
       "<title>5322231480</title>\n",
       "<polygon fill=\"none\" points=\"0,-365.5 0,-401.5 126.0518,-401.5 126.0518,-365.5 0,-365.5\" stroke=\"#000000\"/>\n",
       "<text fill=\"#000000\" font-family=\"Times,serif\" font-size=\"14.00\" text-anchor=\"middle\" x=\"63.0259\" y=\"-379.3\">conv1d_1: Conv1D</text>\n",
       "</g>\n",
       "<!-- 4598652432&#45;&gt;5322231480 -->\n",
       "<g class=\"edge\" id=\"edge5\">\n",
       "<title>4598652432-&gt;5322231480</title>\n",
       "<path d=\"M171.4304,-438.4551C152.2186,-428.7157 128.3141,-416.5975 107.8448,-406.2207\" fill=\"none\" stroke=\"#000000\"/>\n",
       "<polygon fill=\"#000000\" points=\"109.2129,-402.9903 98.711,-401.5904 106.0478,-409.2338 109.2129,-402.9903\" stroke=\"#000000\"/>\n",
       "</g>\n",
       "<!-- 5347083824 -->\n",
       "<g class=\"node\" id=\"node6\">\n",
       "<title>5347083824</title>\n",
       "<polygon fill=\"none\" points=\"144,-365.5 144,-401.5 270.0518,-401.5 270.0518,-365.5 144,-365.5\" stroke=\"#000000\"/>\n",
       "<text fill=\"#000000\" font-family=\"Times,serif\" font-size=\"14.00\" text-anchor=\"middle\" x=\"207.0259\" y=\"-379.3\">conv1d_2: Conv1D</text>\n",
       "</g>\n",
       "<!-- 4598652432&#45;&gt;5347083824 -->\n",
       "<g class=\"edge\" id=\"edge6\">\n",
       "<title>4598652432-&gt;5347083824</title>\n",
       "<path d=\"M207.0259,-438.4551C207.0259,-430.3828 207.0259,-420.6764 207.0259,-411.6817\" fill=\"none\" stroke=\"#000000\"/>\n",
       "<polygon fill=\"#000000\" points=\"210.526,-411.5903 207.0259,-401.5904 203.526,-411.5904 210.526,-411.5903\" stroke=\"#000000\"/>\n",
       "</g>\n",
       "<!-- 5355639920 -->\n",
       "<g class=\"node\" id=\"node7\">\n",
       "<title>5355639920</title>\n",
       "<polygon fill=\"none\" points=\"288,-365.5 288,-401.5 414.0518,-401.5 414.0518,-365.5 288,-365.5\" stroke=\"#000000\"/>\n",
       "<text fill=\"#000000\" font-family=\"Times,serif\" font-size=\"14.00\" text-anchor=\"middle\" x=\"351.0259\" y=\"-379.3\">conv1d_3: Conv1D</text>\n",
       "</g>\n",
       "<!-- 4598652432&#45;&gt;5355639920 -->\n",
       "<g class=\"edge\" id=\"edge7\">\n",
       "<title>4598652432-&gt;5355639920</title>\n",
       "<path d=\"M242.6214,-438.4551C261.8332,-428.7157 285.7377,-416.5975 306.2069,-406.2207\" fill=\"none\" stroke=\"#000000\"/>\n",
       "<polygon fill=\"#000000\" points=\"308.004,-409.2338 315.3408,-401.5904 304.8388,-402.9903 308.004,-409.2338\" stroke=\"#000000\"/>\n",
       "</g>\n",
       "<!-- 5347286992 -->\n",
       "<g class=\"node\" id=\"node8\">\n",
       "<title>5347286992</title>\n",
       "<polygon fill=\"none\" points=\"120.7065,-292.5 120.7065,-328.5 293.3452,-328.5 293.3452,-292.5 120.7065,-292.5\" stroke=\"#000000\"/>\n",
       "<text fill=\"#000000\" font-family=\"Times,serif\" font-size=\"14.00\" text-anchor=\"middle\" x=\"207.0259\" y=\"-306.3\">concatenate_2: Concatenate</text>\n",
       "</g>\n",
       "<!-- 5322231480&#45;&gt;5347286992 -->\n",
       "<g class=\"edge\" id=\"edge8\">\n",
       "<title>5322231480-&gt;5347286992</title>\n",
       "<path d=\"M98.6214,-365.4551C117.8332,-355.7157 141.7377,-343.5975 162.2069,-333.2207\" fill=\"none\" stroke=\"#000000\"/>\n",
       "<polygon fill=\"#000000\" points=\"164.004,-336.2338 171.3408,-328.5904 160.8388,-329.9903 164.004,-336.2338\" stroke=\"#000000\"/>\n",
       "</g>\n",
       "<!-- 5347083824&#45;&gt;5347286992 -->\n",
       "<g class=\"edge\" id=\"edge9\">\n",
       "<title>5347083824-&gt;5347286992</title>\n",
       "<path d=\"M207.0259,-365.4551C207.0259,-357.3828 207.0259,-347.6764 207.0259,-338.6817\" fill=\"none\" stroke=\"#000000\"/>\n",
       "<polygon fill=\"#000000\" points=\"210.526,-338.5903 207.0259,-328.5904 203.526,-338.5904 210.526,-338.5903\" stroke=\"#000000\"/>\n",
       "</g>\n",
       "<!-- 5355639920&#45;&gt;5347286992 -->\n",
       "<g class=\"edge\" id=\"edge10\">\n",
       "<title>5355639920-&gt;5347286992</title>\n",
       "<path d=\"M315.4304,-365.4551C296.2186,-355.7157 272.3141,-343.5975 251.8448,-333.2207\" fill=\"none\" stroke=\"#000000\"/>\n",
       "<polygon fill=\"#000000\" points=\"253.2129,-329.9903 242.711,-328.5904 250.0478,-336.2338 253.2129,-329.9903\" stroke=\"#000000\"/>\n",
       "</g>\n",
       "<!-- 4986028608 -->\n",
       "<g class=\"node\" id=\"node9\">\n",
       "<title>4986028608</title>\n",
       "<polygon fill=\"none\" points=\"101.2207,-219.5 101.2207,-255.5 312.8311,-255.5 312.8311,-219.5 101.2207,-219.5\" stroke=\"#000000\"/>\n",
       "<text fill=\"#000000\" font-family=\"Times,serif\" font-size=\"14.00\" text-anchor=\"middle\" x=\"207.0259\" y=\"-233.3\">max_pooling1d_1: MaxPooling1D</text>\n",
       "</g>\n",
       "<!-- 5347286992&#45;&gt;4986028608 -->\n",
       "<g class=\"edge\" id=\"edge11\">\n",
       "<title>5347286992-&gt;4986028608</title>\n",
       "<path d=\"M207.0259,-292.4551C207.0259,-284.3828 207.0259,-274.6764 207.0259,-265.6817\" fill=\"none\" stroke=\"#000000\"/>\n",
       "<polygon fill=\"#000000\" points=\"210.526,-265.5903 207.0259,-255.5904 203.526,-265.5904 210.526,-265.5903\" stroke=\"#000000\"/>\n",
       "</g>\n",
       "<!-- 5355639248 -->\n",
       "<g class=\"node\" id=\"node10\">\n",
       "<title>5355639248</title>\n",
       "<polygon fill=\"none\" points=\"151.3931,-146.5 151.3931,-182.5 262.6587,-182.5 262.6587,-146.5 151.3931,-146.5\" stroke=\"#000000\"/>\n",
       "<text fill=\"#000000\" font-family=\"Times,serif\" font-size=\"14.00\" text-anchor=\"middle\" x=\"207.0259\" y=\"-160.3\">flatten_1: Flatten</text>\n",
       "</g>\n",
       "<!-- 4986028608&#45;&gt;5355639248 -->\n",
       "<g class=\"edge\" id=\"edge12\">\n",
       "<title>4986028608-&gt;5355639248</title>\n",
       "<path d=\"M207.0259,-219.4551C207.0259,-211.3828 207.0259,-201.6764 207.0259,-192.6817\" fill=\"none\" stroke=\"#000000\"/>\n",
       "<polygon fill=\"#000000\" points=\"210.526,-192.5903 207.0259,-182.5904 203.526,-192.5904 210.526,-192.5903\" stroke=\"#000000\"/>\n",
       "</g>\n",
       "<!-- 4410401904 -->\n",
       "<g class=\"node\" id=\"node11\">\n",
       "<title>4410401904</title>\n",
       "<polygon fill=\"none\" points=\"154.8999,-73.5 154.8999,-109.5 259.1519,-109.5 259.1519,-73.5 154.8999,-73.5\" stroke=\"#000000\"/>\n",
       "<text fill=\"#000000\" font-family=\"Times,serif\" font-size=\"14.00\" text-anchor=\"middle\" x=\"207.0259\" y=\"-87.3\">dense_1: Dense</text>\n",
       "</g>\n",
       "<!-- 5355639248&#45;&gt;4410401904 -->\n",
       "<g class=\"edge\" id=\"edge13\">\n",
       "<title>5355639248-&gt;4410401904</title>\n",
       "<path d=\"M207.0259,-146.4551C207.0259,-138.3828 207.0259,-128.6764 207.0259,-119.6817\" fill=\"none\" stroke=\"#000000\"/>\n",
       "<polygon fill=\"#000000\" points=\"210.526,-119.5903 207.0259,-109.5904 203.526,-119.5904 210.526,-119.5903\" stroke=\"#000000\"/>\n",
       "</g>\n",
       "<!-- 4991001208 -->\n",
       "<g class=\"node\" id=\"node12\">\n",
       "<title>4991001208</title>\n",
       "<polygon fill=\"none\" points=\"154.8999,-.5 154.8999,-36.5 259.1519,-36.5 259.1519,-.5 154.8999,-.5\" stroke=\"#000000\"/>\n",
       "<text fill=\"#000000\" font-family=\"Times,serif\" font-size=\"14.00\" text-anchor=\"middle\" x=\"207.0259\" y=\"-14.3\">dense_2: Dense</text>\n",
       "</g>\n",
       "<!-- 4410401904&#45;&gt;4991001208 -->\n",
       "<g class=\"edge\" id=\"edge14\">\n",
       "<title>4410401904-&gt;4991001208</title>\n",
       "<path d=\"M207.0259,-73.4551C207.0259,-65.3828 207.0259,-55.6764 207.0259,-46.6817\" fill=\"none\" stroke=\"#000000\"/>\n",
       "<polygon fill=\"#000000\" points=\"210.526,-46.5903 207.0259,-36.5904 203.526,-46.5904 210.526,-46.5903\" stroke=\"#000000\"/>\n",
       "</g>\n",
       "</g>\n",
       "</svg>"
      ],
      "text/plain": [
       "<IPython.core.display.SVG object>"
      ]
     },
     "execution_count": 17,
     "metadata": {},
     "output_type": "execute_result"
    }
   ],
   "source": [
    "from IPython.display import SVG\n",
    "from keras.utils.vis_utils import model_to_dot\n",
    "SVG(model_to_dot(model).create(prog='dot', format='svg'))"
   ]
  },
  {
   "cell_type": "code",
   "execution_count": 18,
   "metadata": {},
   "outputs": [],
   "source": [
    "# Keras callback functions\n",
    "tensorboard = callbacks.TensorBoard(log_dir='./logs', histogram_freq=0, batch_size=16, write_grads=True , write_graph=True)\n",
    "model_checkpoints = callbacks.ModelCheckpoint(\"checkpoint-{val_loss:.3f}.h5\", monitor='val_loss', verbose=0, save_best_only=True, save_weights_only=False, mode='auto', period=0)"
   ]
  },
  {
   "cell_type": "code",
   "execution_count": 19,
   "metadata": {},
   "outputs": [],
   "source": [
    "# remove TensorFlow logs directory and old checkpoints\n",
    "!rm -r logs *.h5"
   ]
  },
  {
   "cell_type": "code",
   "execution_count": 20,
   "metadata": {},
   "outputs": [],
   "source": [
    "#model = keras.models.load_model(\"checkpoint-0.91.h5\") # in case you ever want to load from a checkpoint"
   ]
  },
  {
   "cell_type": "markdown",
   "metadata": {},
   "source": [
    "### 3. Train the model"
   ]
  },
  {
   "cell_type": "code",
   "execution_count": 21,
   "metadata": {},
   "outputs": [
    {
     "name": "stdout",
     "output_type": "stream",
     "text": [
      "Training Progress:\n",
      "Train on 8530 samples, validate on 2132 samples\n",
      "Epoch 1/12\n",
      "8530/8530 [==============================] - 10s 1ms/step - loss: 1.0250 - acc: 0.5402 - val_loss: 1.0142 - val_acc: 0.5352\n",
      "Epoch 2/12\n",
      "8530/8530 [==============================] - 11s 1ms/step - loss: 0.9921 - acc: 0.6029 - val_loss: 0.9919 - val_acc: 0.5840\n",
      "Epoch 3/12\n",
      "8530/8530 [==============================] - 10s 1ms/step - loss: 0.9549 - acc: 0.6433 - val_loss: 0.9462 - val_acc: 0.6712\n",
      "Epoch 4/12\n",
      "8530/8530 [==============================] - 11s 1ms/step - loss: 0.9166 - acc: 0.6829 - val_loss: 0.9460 - val_acc: 0.6515\n",
      "Epoch 5/12\n",
      "8530/8530 [==============================] - 11s 1ms/step - loss: 0.8911 - acc: 0.7011 - val_loss: 0.9230 - val_acc: 0.6768\n",
      "Epoch 6/12\n",
      "8530/8530 [==============================] - 10s 1ms/step - loss: 0.8626 - acc: 0.7231 - val_loss: 0.9118 - val_acc: 0.6900\n",
      "Epoch 7/12\n",
      "8530/8530 [==============================] - 9s 1ms/step - loss: 0.8404 - acc: 0.7365 - val_loss: 0.8733 - val_acc: 0.7139\n",
      "Epoch 8/12\n",
      "8530/8530 [==============================] - 10s 1ms/step - loss: 0.8174 - acc: 0.7494 - val_loss: 0.8715 - val_acc: 0.7097\n",
      "Epoch 9/12\n",
      "8530/8530 [==============================] - 9s 1ms/step - loss: 0.7943 - acc: 0.7658 - val_loss: 0.8700 - val_acc: 0.7129\n",
      "Epoch 10/12\n",
      "8530/8530 [==============================] - 9s 1ms/step - loss: 0.7739 - acc: 0.7754 - val_loss: 0.8644 - val_acc: 0.7153\n",
      "Epoch 11/12\n",
      "8530/8530 [==============================] - 9s 1ms/step - loss: 0.7530 - acc: 0.7911 - val_loss: 0.8621 - val_acc: 0.7181\n",
      "Epoch 12/12\n",
      "8530/8530 [==============================] - 9s 1ms/step - loss: 0.7211 - acc: 0.8077 - val_loss: 0.8772 - val_acc: 0.7125\n"
     ]
    }
   ],
   "source": [
    "print(\"Training Progress:\")\n",
    "model_log = model.fit(x_train, y_train, validation_data=(x_val, y_val),\n",
    "          epochs=12, batch_size=32,\n",
    "          callbacks=[tensorboard, model_checkpoints]) # publish to tensorboard and save automatic checkpoints\n",
    "\n",
    "#pd.DataFrame(model_log.history).to_csv(\"history.csv\") # save the training progress to a csv file"
   ]
  },
  {
   "cell_type": "markdown",
   "metadata": {},
   "source": [
    "### 4. Evaluate the model"
   ]
  },
  {
   "cell_type": "code",
   "execution_count": 27,
   "metadata": {},
   "outputs": [
    {
     "data": {
      "image/png": "[encoded data removed]",
      "text/plain": [
       "<Figure size 432x288 with 1 Axes>"
      ]
     },
     "metadata": {
      "image/png": {
       "height": 277,
       "width": 393
      }
     },
     "output_type": "display_data"
    },
    {
     "data": {
      "image/png": "[encoded data removed]",
      "text/plain": [
       "<Figure size 432x288 with 1 Axes>"
      ]
     },
     "metadata": {
      "image/png": {
       "height": 277,
       "width": 393
      }
     },
     "output_type": "display_data"
    }
   ],
   "source": [
    "import matplotlib.pyplot as plt\n",
    "%matplotlib inline\n",
    "%config InlineBackend.figure_format = 'retina'\n",
    "\n",
    "plt.plot(model_log.history['acc'])\n",
    "plt.plot(model_log.history['val_acc'])\n",
    "plt.title('accuracy')\n",
    "plt.ylabel('accuracy')\n",
    "plt.xlabel('epoch')\n",
    "plt.legend(['train', 'test'], loc='upper left')\n",
    "plt.show()\n",
    "\n",
    "plt.plot(model_log.history['loss'])\n",
    "plt.plot(model_log.history['val_loss'])\n",
    "plt.title('loss')\n",
    "plt.ylabel('loss')\n",
    "plt.xlabel('epoch')\n",
    "plt.legend(['train', 'test'], loc='upper left')\n",
    "plt.show()"
   ]
  },
  {
   "cell_type": "code",
   "execution_count": 23,
   "metadata": {},
   "outputs": [],
   "source": [
    "from sklearn.metrics import classification_report, confusion_matrix\n",
    "import itertools, pickle\n",
    "\n",
    "classes = [\"positive\", \"negative\"]"
   ]
  },
  {
   "cell_type": "code",
   "execution_count": 24,
   "metadata": {},
   "outputs": [
    {
     "name": "stdout",
     "output_type": "stream",
     "text": [
      "             precision    recall  f1-score   support\n",
      "\n",
      "   positive       0.76      0.64      0.70      1086\n",
      "   negative       0.68      0.78      0.73      1046\n",
      "\n",
      "avg / total       0.72      0.71      0.71      2132\n",
      "\n"
     ]
    }
   ],
   "source": [
    "Y_test = np.argmax(y_val, axis=1) # Convert one-hot to index\n",
    "y_pred = model.predict(x_val)\n",
    "y_pred_class = np.argmax(y_pred,axis=1)\n",
    "cnf_matrix = confusion_matrix(Y_test, y_pred_class)\n",
    "print(classification_report(Y_test, y_pred_class, target_names=classes))"
   ]
  },
  {
   "cell_type": "code",
   "execution_count": 25,
   "metadata": {},
   "outputs": [
    {
     "data": {
      "image/png": "[encoded data removed]",
      "text/plain": [
       "<Figure size 1440x720 with 2 Axes>"
      ]
     },
     "metadata": {},
     "output_type": "display_data"
    }
   ],
   "source": [
    "def plot_confusion_matrix(cm, labels,\n",
    "                          normalize=True,\n",
    "                          title='Confusion Matrix (Validation Set)',\n",
    "                          cmap=plt.cm.Blues):\n",
    "    \"\"\"\n",
    "    This function prints and plots the confusion matrix.\n",
    "    Normalization can be applied by setting `normalize=True`.\n",
    "    \"\"\"\n",
    "    if normalize:\n",
    "        cm = cm.astype('float') / cm.sum(axis=1)[:, np.newaxis]\n",
    "        #print(\"Normalized confusion matrix\")\n",
    "    else:\n",
    "        #print('Confusion matrix, without normalization')\n",
    "        pass\n",
    "\n",
    "    #print(cm)\n",
    "\n",
    "    plt.imshow(cm, interpolation='nearest', cmap=cmap)\n",
    "    plt.title(title)\n",
    "    plt.colorbar()\n",
    "    tick_marks = np.arange(len(labels))\n",
    "    plt.xticks(tick_marks, labels, rotation=45)\n",
    "    plt.yticks(tick_marks, labels)\n",
    "\n",
    "    fmt = '.2f' if normalize else 'd'\n",
    "    thresh = cm.max() / 2.\n",
    "    for i, j in itertools.product(range(cm.shape[0]), range(cm.shape[1])):\n",
    "        plt.text(j, i, format(cm[i, j], fmt),\n",
    "                 horizontalalignment=\"center\",\n",
    "                 color=\"white\" if cm[i, j] > thresh else \"black\")\n",
    "\n",
    "    plt.tight_layout()\n",
    "    plt.ylabel('True label')\n",
    "    plt.xlabel('Predicted label')\n",
    "\n",
    "plt.figure(figsize=(20,10))\n",
    "plot_confusion_matrix(cnf_matrix, labels=classes)"
   ]
  },
  {
   "cell_type": "code",
   "execution_count": null,
   "metadata": {},
   "outputs": [],
   "source": []
  }
 ],
 "metadata": {
  "kernelspec": {
   "display_name": "Python 3",
   "language": "python",
   "name": "python3"
  },
  "language_info": {
   "codemirror_mode": {
    "name": "ipython",
    "version": 3
   },
   "file_extension": ".py",
   "mimetype": "text/x-python",
   "name": "python",
   "nbconvert_exporter": "python",
   "pygments_lexer": "ipython3",
   "version": "3.6.4"
  }
 },
 "nbformat": 4,
 "nbformat_minor": 2
}
